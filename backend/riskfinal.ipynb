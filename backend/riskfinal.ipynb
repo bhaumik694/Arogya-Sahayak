{
 "cells": [
  {
   "cell_type": "code",
   "execution_count": 1,
   "id": "42f3ad30",
   "metadata": {},
   "outputs": [],
   "source": [
    "import pandas as pd\n",
    "from sklearn.ensemble import RandomForestClassifier"
   ]
  },
  {
   "cell_type": "code",
   "execution_count": 2,
   "id": "a9af56e4",
   "metadata": {},
   "outputs": [],
   "source": [
    "df=pd.read_csv('Vitals_with_RiskLevels.csv')"
   ]
  },
  {
   "cell_type": "code",
   "execution_count": 3,
   "id": "d82928b9",
   "metadata": {},
   "outputs": [
    {
     "data": {
      "text/html": [
       "<div>\n",
       "<style scoped>\n",
       "    .dataframe tbody tr th:only-of-type {\n",
       "        vertical-align: middle;\n",
       "    }\n",
       "\n",
       "    .dataframe tbody tr th {\n",
       "        vertical-align: top;\n",
       "    }\n",
       "\n",
       "    .dataframe thead th {\n",
       "        text-align: right;\n",
       "    }\n",
       "</style>\n",
       "<table border=\"1\" class=\"dataframe\">\n",
       "  <thead>\n",
       "    <tr style=\"text-align: right;\">\n",
       "      <th></th>\n",
       "      <th>gender</th>\n",
       "      <th>age</th>\n",
       "      <th>hypertension</th>\n",
       "      <th>heart_disease</th>\n",
       "      <th>bmi</th>\n",
       "      <th>HbA1c_level</th>\n",
       "      <th>blood_glucose_level</th>\n",
       "      <th>risk</th>\n",
       "    </tr>\n",
       "  </thead>\n",
       "  <tbody>\n",
       "    <tr>\n",
       "      <th>0</th>\n",
       "      <td>0</td>\n",
       "      <td>80.0</td>\n",
       "      <td>0</td>\n",
       "      <td>1</td>\n",
       "      <td>25.19</td>\n",
       "      <td>6.6</td>\n",
       "      <td>140</td>\n",
       "      <td>1</td>\n",
       "    </tr>\n",
       "    <tr>\n",
       "      <th>1</th>\n",
       "      <td>0</td>\n",
       "      <td>54.0</td>\n",
       "      <td>0</td>\n",
       "      <td>0</td>\n",
       "      <td>27.32</td>\n",
       "      <td>6.6</td>\n",
       "      <td>80</td>\n",
       "      <td>1</td>\n",
       "    </tr>\n",
       "    <tr>\n",
       "      <th>2</th>\n",
       "      <td>1</td>\n",
       "      <td>28.0</td>\n",
       "      <td>0</td>\n",
       "      <td>0</td>\n",
       "      <td>27.32</td>\n",
       "      <td>5.7</td>\n",
       "      <td>158</td>\n",
       "      <td>0</td>\n",
       "    </tr>\n",
       "    <tr>\n",
       "      <th>3</th>\n",
       "      <td>0</td>\n",
       "      <td>36.0</td>\n",
       "      <td>0</td>\n",
       "      <td>0</td>\n",
       "      <td>23.45</td>\n",
       "      <td>5.0</td>\n",
       "      <td>155</td>\n",
       "      <td>0</td>\n",
       "    </tr>\n",
       "    <tr>\n",
       "      <th>4</th>\n",
       "      <td>1</td>\n",
       "      <td>76.0</td>\n",
       "      <td>1</td>\n",
       "      <td>1</td>\n",
       "      <td>20.14</td>\n",
       "      <td>4.8</td>\n",
       "      <td>155</td>\n",
       "      <td>1</td>\n",
       "    </tr>\n",
       "  </tbody>\n",
       "</table>\n",
       "</div>"
      ],
      "text/plain": [
       "   gender   age  hypertension  heart_disease    bmi  HbA1c_level  \\\n",
       "0       0  80.0             0              1  25.19          6.6   \n",
       "1       0  54.0             0              0  27.32          6.6   \n",
       "2       1  28.0             0              0  27.32          5.7   \n",
       "3       0  36.0             0              0  23.45          5.0   \n",
       "4       1  76.0             1              1  20.14          4.8   \n",
       "\n",
       "   blood_glucose_level  risk  \n",
       "0                  140     1  \n",
       "1                   80     1  \n",
       "2                  158     0  \n",
       "3                  155     0  \n",
       "4                  155     1  "
      ]
     },
     "execution_count": 3,
     "metadata": {},
     "output_type": "execute_result"
    }
   ],
   "source": [
    "df.head()"
   ]
  },
  {
   "cell_type": "code",
   "execution_count": 4,
   "id": "d05e7360",
   "metadata": {},
   "outputs": [
    {
     "name": "stdout",
     "output_type": "stream",
     "text": [
      "<class 'pandas.core.frame.DataFrame'>\n",
      "RangeIndex: 95873 entries, 0 to 95872\n",
      "Data columns (total 8 columns):\n",
      " #   Column               Non-Null Count  Dtype  \n",
      "---  ------               --------------  -----  \n",
      " 0   gender               95873 non-null  int64  \n",
      " 1   age                  95873 non-null  float64\n",
      " 2   hypertension         95873 non-null  int64  \n",
      " 3   heart_disease        95873 non-null  int64  \n",
      " 4   bmi                  95873 non-null  float64\n",
      " 5   HbA1c_level          95873 non-null  float64\n",
      " 6   blood_glucose_level  95873 non-null  int64  \n",
      " 7   risk                 95873 non-null  int64  \n",
      "dtypes: float64(3), int64(5)\n",
      "memory usage: 5.9 MB\n"
     ]
    }
   ],
   "source": [
    "df.info()"
   ]
  },
  {
   "cell_type": "code",
   "execution_count": 5,
   "id": "05146b8c",
   "metadata": {},
   "outputs": [
    {
     "name": "stdout",
     "output_type": "stream",
     "text": [
      "Number of duplicate rows: 8888\n",
      "      gender   age  hypertension  heart_disease    bmi  HbA1c_level  \\\n",
      "663        0  80.0             0              0  27.32          6.0   \n",
      "1878       0  49.0             0              0  27.32          6.1   \n",
      "2068       0  62.0             0              0  27.32          5.8   \n",
      "2271       0  24.0             0              0  27.32          4.0   \n",
      "2537       1  52.0             0              0  27.32          5.0   \n",
      "\n",
      "      blood_glucose_level  risk  \n",
      "663                   200     1  \n",
      "1878                  160     0  \n",
      "2068                   90     0  \n",
      "2271                  130     0  \n",
      "2537                  159     0  \n"
     ]
    }
   ],
   "source": [
    "# Count total duplicate rows\n",
    "duplicates_count = df.duplicated().sum()\n",
    "print(f\"Number of duplicate rows: {duplicates_count}\")\n",
    "\n",
    "# Show the actual duplicate rows (if any)\n",
    "duplicates = df[df.duplicated()]\n",
    "print(duplicates.head())\n"
   ]
  },
  {
   "cell_type": "code",
   "execution_count": 6,
   "id": "0290866b",
   "metadata": {},
   "outputs": [
    {
     "name": "stdout",
     "output_type": "stream",
     "text": [
      "Shape after removing duplicates: (86985, 8)\n"
     ]
    }
   ],
   "source": [
    "# Drop duplicates\n",
    "df = df.drop_duplicates()\n",
    "\n",
    "print(\"Shape after removing duplicates:\", df.shape)\n"
   ]
  },
  {
   "cell_type": "code",
   "execution_count": 7,
   "id": "91b17ee9",
   "metadata": {},
   "outputs": [
    {
     "name": "stdout",
     "output_type": "stream",
     "text": [
      "<class 'pandas.core.frame.DataFrame'>\n",
      "Index: 86985 entries, 0 to 95872\n",
      "Data columns (total 8 columns):\n",
      " #   Column               Non-Null Count  Dtype  \n",
      "---  ------               --------------  -----  \n",
      " 0   gender               86985 non-null  int64  \n",
      " 1   age                  86985 non-null  float64\n",
      " 2   hypertension         86985 non-null  int64  \n",
      " 3   heart_disease        86985 non-null  int64  \n",
      " 4   bmi                  86985 non-null  float64\n",
      " 5   HbA1c_level          86985 non-null  float64\n",
      " 6   blood_glucose_level  86985 non-null  int64  \n",
      " 7   risk                 86985 non-null  int64  \n",
      "dtypes: float64(3), int64(5)\n",
      "memory usage: 6.0 MB\n"
     ]
    }
   ],
   "source": [
    "df.info()"
   ]
  },
  {
   "cell_type": "code",
   "execution_count": 8,
   "id": "2fd41d90",
   "metadata": {},
   "outputs": [
    {
     "name": "stdout",
     "output_type": "stream",
     "text": [
      "HbA1c_level            0.502815\n",
      "blood_glucose_level    0.237012\n",
      "hypertension           0.165404\n",
      "heart_disease          0.078167\n",
      "age                    0.012990\n",
      "bmi                    0.003234\n",
      "gender                 0.000379\n",
      "dtype: float64\n",
      "\n",
      "Selected Features: ['HbA1c_level', 'blood_glucose_level', 'hypertension', 'heart_disease', 'age']\n"
     ]
    }
   ],
   "source": [
    "X = df.drop('risk', axis=1)\n",
    "y = df['risk']\n",
    "\n",
    "rf = RandomForestClassifier(random_state=42)\n",
    "rf.fit(X, y)\n",
    "\n",
    "importances = pd.Series(rf.feature_importances_, index=X.columns).sort_values(ascending=False)\n",
    "print(importances)\n",
    "\n",
    "selected_features = importances.head(5).index.tolist()\n",
    "print(\"\\nSelected Features:\", selected_features)\n",
    "\n",
    "X_selected = X[selected_features]"
   ]
  },
  {
   "cell_type": "code",
   "execution_count": 10,
   "id": "f293b97b",
   "metadata": {},
   "outputs": [
    {
     "name": "stdout",
     "output_type": "stream",
     "text": [
      "              precision    recall  f1-score   support\n",
      "\n",
      "           0       0.67      0.88      0.76     10970\n",
      "           1       0.56      0.27      0.37      6427\n",
      "\n",
      "    accuracy                           0.65     17397\n",
      "   macro avg       0.62      0.57      0.56     17397\n",
      "weighted avg       0.63      0.65      0.61     17397\n",
      "\n"
     ]
    }
   ],
   "source": [
    "# Drop leakage columns (used in risk definition)\n",
    "leakage_cols = [\"HbA1c_level\", \"blood_glucose_level\", \"hypertension\", \"heart_disease\", \"bmi\"]\n",
    "\n",
    "X = df.drop(columns=leakage_cols + [\"risk\"])\n",
    "y = df[\"risk\"]\n",
    "\n",
    "from sklearn.model_selection import train_test_split\n",
    "from sklearn.ensemble import RandomForestClassifier\n",
    "from sklearn.metrics import classification_report\n",
    "\n",
    "# Train/test split\n",
    "X_train, X_test, y_train, y_test = train_test_split(\n",
    "    X, y, test_size=0.2, random_state=42, stratify=y\n",
    ")\n",
    "\n",
    "# Train model\n",
    "rf = RandomForestClassifier(random_state=42)\n",
    "rf.fit(X_train, y_train)\n",
    "\n",
    "# Evaluate\n",
    "y_pred = rf.predict(X_test)\n",
    "print(classification_report(y_test, y_pred))\n"
   ]
  },
  {
   "cell_type": "code",
   "execution_count": 11,
   "id": "43005d73",
   "metadata": {},
   "outputs": [
    {
     "name": "stdout",
     "output_type": "stream",
     "text": [
      "\n",
      "RandomForest - CV Mean Accuracy: 0.6352\n",
      "RandomForest Classification Report:\n",
      "               precision    recall  f1-score   support\n",
      "\n",
      "           0       0.64      0.64      0.64     10971\n",
      "           1       0.64      0.63      0.63     10970\n",
      "\n",
      "    accuracy                           0.64     21941\n",
      "   macro avg       0.64      0.64      0.64     21941\n",
      "weighted avg       0.64      0.64      0.64     21941\n",
      "\n",
      "\n",
      "GradientBoosting - CV Mean Accuracy: 0.6180\n",
      "GradientBoosting Classification Report:\n",
      "               precision    recall  f1-score   support\n",
      "\n",
      "           0       0.61      0.68      0.64     10971\n",
      "           1       0.64      0.57      0.60     10970\n",
      "\n",
      "    accuracy                           0.62     21941\n",
      "   macro avg       0.62      0.62      0.62     21941\n",
      "weighted avg       0.62      0.62      0.62     21941\n",
      "\n"
     ]
    },
    {
     "name": "stderr",
     "output_type": "stream",
     "text": [
      "c:\\Users\\panka\\OneDrive - Shri Vile Parle Kelavani Mandal\\Desktop\\Machine Learning\\venv\\Lib\\site-packages\\sklearn\\linear_model\\_logistic.py:469: ConvergenceWarning: lbfgs failed to converge (status=1):\n",
      "STOP: TOTAL NO. OF ITERATIONS REACHED LIMIT.\n",
      "\n",
      "Increase the number of iterations (max_iter) or scale the data as shown in:\n",
      "    https://scikit-learn.org/stable/modules/preprocessing.html\n",
      "Please also refer to the documentation for alternative solver options:\n",
      "    https://scikit-learn.org/stable/modules/linear_model.html#logistic-regression\n",
      "  n_iter_i = _check_optimize_result(\n",
      "c:\\Users\\panka\\OneDrive - Shri Vile Parle Kelavani Mandal\\Desktop\\Machine Learning\\venv\\Lib\\site-packages\\sklearn\\linear_model\\_logistic.py:469: ConvergenceWarning: lbfgs failed to converge (status=1):\n",
      "STOP: TOTAL NO. OF ITERATIONS REACHED LIMIT.\n",
      "\n",
      "Increase the number of iterations (max_iter) or scale the data as shown in:\n",
      "    https://scikit-learn.org/stable/modules/preprocessing.html\n",
      "Please also refer to the documentation for alternative solver options:\n",
      "    https://scikit-learn.org/stable/modules/linear_model.html#logistic-regression\n",
      "  n_iter_i = _check_optimize_result(\n",
      "c:\\Users\\panka\\OneDrive - Shri Vile Parle Kelavani Mandal\\Desktop\\Machine Learning\\venv\\Lib\\site-packages\\sklearn\\linear_model\\_logistic.py:469: ConvergenceWarning: lbfgs failed to converge (status=1):\n",
      "STOP: TOTAL NO. OF ITERATIONS REACHED LIMIT.\n",
      "\n",
      "Increase the number of iterations (max_iter) or scale the data as shown in:\n",
      "    https://scikit-learn.org/stable/modules/preprocessing.html\n",
      "Please also refer to the documentation for alternative solver options:\n",
      "    https://scikit-learn.org/stable/modules/linear_model.html#logistic-regression\n",
      "  n_iter_i = _check_optimize_result(\n"
     ]
    },
    {
     "name": "stdout",
     "output_type": "stream",
     "text": [
      "\n",
      "LogisticRegression - CV Mean Accuracy: 0.6036\n",
      "LogisticRegression Classification Report:\n",
      "               precision    recall  f1-score   support\n",
      "\n",
      "           0       0.59      0.66      0.62     10971\n",
      "           1       0.62      0.55      0.58     10970\n",
      "\n",
      "    accuracy                           0.60     21941\n",
      "   macro avg       0.61      0.60      0.60     21941\n",
      "weighted avg       0.61      0.60      0.60     21941\n",
      "\n"
     ]
    },
    {
     "name": "stderr",
     "output_type": "stream",
     "text": [
      "c:\\Users\\panka\\OneDrive - Shri Vile Parle Kelavani Mandal\\Desktop\\Machine Learning\\venv\\Lib\\site-packages\\sklearn\\linear_model\\_logistic.py:469: ConvergenceWarning: lbfgs failed to converge (status=1):\n",
      "STOP: TOTAL NO. OF ITERATIONS REACHED LIMIT.\n",
      "\n",
      "Increase the number of iterations (max_iter) or scale the data as shown in:\n",
      "    https://scikit-learn.org/stable/modules/preprocessing.html\n",
      "Please also refer to the documentation for alternative solver options:\n",
      "    https://scikit-learn.org/stable/modules/linear_model.html#logistic-regression\n",
      "  n_iter_i = _check_optimize_result(\n"
     ]
    }
   ],
   "source": [
    "import pandas as pd\n",
    "import numpy as np\n",
    "from sklearn.model_selection import train_test_split, cross_val_score\n",
    "from sklearn.preprocessing import StandardScaler\n",
    "from sklearn.ensemble import RandomForestClassifier, GradientBoostingClassifier\n",
    "from sklearn.linear_model import LogisticRegression\n",
    "from sklearn.metrics import classification_report\n",
    "from imblearn.over_sampling import SMOTE\n",
    "\n",
    "# -----------------------------\n",
    "# 1. Load dataset\n",
    "# -----------------------------\n",
    "\n",
    "# Drop duplicate rows\n",
    "df = df.drop_duplicates()\n",
    "\n",
    "# Drop leakage features (used in risk definition)\n",
    "leakage_cols = [\"HbA1c_level\", \"blood_glucose_level\", \"hypertension\", \"heart_disease\", \"bmi\"]\n",
    "X = df.drop(columns=leakage_cols + [\"risk\"])\n",
    "y = df[\"risk\"]\n",
    "\n",
    "# -----------------------------\n",
    "# 2. Feature Engineering\n",
    "# -----------------------------\n",
    "\n",
    "# Age groups\n",
    "df[\"age_group\"] = pd.cut(df[\"age\"], \n",
    "                         bins=[0, 30, 50, 70, 120], \n",
    "                         labels=[\"young\", \"adult\", \"mid_age\", \"elderly\"])\n",
    "\n",
    "# BMI categories (we still use BMI indirectly)\n",
    "df[\"bmi_category\"] = pd.cut(df[\"bmi\"], \n",
    "                            bins=[0, 18.5, 25, 30, 100], \n",
    "                            labels=[\"underweight\", \"normal\", \"overweight\", \"obese\"])\n",
    "\n",
    "# Interaction feature: Age × BMI\n",
    "df[\"age_bmi_interaction\"] = df[\"age\"] * df[\"bmi\"]\n",
    "\n",
    "# Replace X with engineered features + original safe ones\n",
    "X = df[[\"age\", \"gender\", \"bmi_category\", \"age_group\", \"age_bmi_interaction\"]]\n",
    "\n",
    "# -----------------------------\n",
    "# 3. Encoding\n",
    "# -----------------------------\n",
    "X = pd.get_dummies(X, drop_first=True)\n",
    "\n",
    "# -----------------------------\n",
    "# 4. Handle Imbalance\n",
    "# -----------------------------\n",
    "smote = SMOTE(random_state=42)\n",
    "X_resampled, y_resampled = smote.fit_resample(X, y)\n",
    "\n",
    "# -----------------------------\n",
    "# 5. Train/Test Split\n",
    "# -----------------------------\n",
    "X_train, X_test, y_train, y_test = train_test_split(\n",
    "    X_resampled, y_resampled, test_size=0.2, random_state=42, stratify=y_resampled\n",
    ")\n",
    "\n",
    "# -----------------------------\n",
    "# 6. Models\n",
    "# -----------------------------\n",
    "models = {\n",
    "    \"RandomForest\": RandomForestClassifier(random_state=42),\n",
    "    \"GradientBoosting\": GradientBoostingClassifier(random_state=42),\n",
    "    \"LogisticRegression\": LogisticRegression(max_iter=500, random_state=42)\n",
    "}\n",
    "\n",
    "# -----------------------------\n",
    "# 7. Evaluate with Cross-Validation\n",
    "# -----------------------------\n",
    "for name, model in models.items():\n",
    "    scores = cross_val_score(model, X_resampled, y_resampled, cv=5, scoring=\"accuracy\")\n",
    "    print(f\"\\n{name} - CV Mean Accuracy: {scores.mean():.4f}\")\n",
    "\n",
    "    model.fit(X_train, y_train)\n",
    "    y_pred = model.predict(X_test)\n",
    "    print(f\"{name} Classification Report:\\n\", classification_report(y_test, y_pred))\n"
   ]
  },
  {
   "cell_type": "code",
   "execution_count": null,
   "id": "ebcc98da",
   "metadata": {},
   "outputs": [
    {
     "name": "stdout",
     "output_type": "stream",
     "text": [
      "Requirement already satisfied: xgboost in c:\\users\\panka\\onedrive - shri vile parle kelavani mandal\\desktop\\machine learning\\venv\\lib\\site-packages (3.0.5)\n",
      "Requirement already satisfied: numpy in c:\\users\\panka\\onedrive - shri vile parle kelavani mandal\\desktop\\machine learning\\venv\\lib\\site-packages (from xgboost) (1.26.4)\n",
      "Requirement already satisfied: scipy in c:\\users\\panka\\onedrive - shri vile parle kelavani mandal\\desktop\\machine learning\\venv\\lib\\site-packages (from xgboost) (1.15.2)\n"
     ]
    }
   ],
   "source": [
    "!pip install xgboost"
   ]
  },
  {
   "cell_type": "code",
   "execution_count": 12,
   "id": "c2b8aea4",
   "metadata": {},
   "outputs": [
    {
     "name": "stdout",
     "output_type": "stream",
     "text": [
      "Fitting 5 folds for each of 108 candidates, totalling 540 fits\n"
     ]
    },
    {
     "name": "stderr",
     "output_type": "stream",
     "text": [
      "c:\\Users\\panka\\OneDrive - Shri Vile Parle Kelavani Mandal\\Desktop\\Machine Learning\\venv\\Lib\\site-packages\\xgboost\\training.py:183: UserWarning: [09:57:28] WARNING: C:\\actions-runner\\_work\\xgboost\\xgboost\\src\\learner.cc:738: \n",
      "Parameters: { \"use_label_encoder\" } are not used.\n",
      "\n",
      "  bst.update(dtrain, iteration=i, fobj=obj)\n"
     ]
    },
    {
     "name": "stdout",
     "output_type": "stream",
     "text": [
      "Best Parameters: {'colsample_bytree': 1.0, 'learning_rate': 0.2, 'max_depth': 7, 'n_estimators': 300, 'subsample': 1.0}\n",
      "\n",
      "Classification Report:\n",
      "               precision    recall  f1-score   support\n",
      "\n",
      "           0       0.61      0.69      0.65     10971\n",
      "           1       0.64      0.56      0.60     10970\n",
      "\n",
      "    accuracy                           0.62     21941\n",
      "   macro avg       0.63      0.62      0.62     21941\n",
      "weighted avg       0.63      0.62      0.62     21941\n",
      "\n"
     ]
    }
   ],
   "source": [
    "import pandas as pd\n",
    "from sklearn.model_selection import train_test_split, StratifiedKFold, GridSearchCV\n",
    "from sklearn.metrics import classification_report\n",
    "from imblearn.over_sampling import SMOTE\n",
    "import xgboost as xgb\n",
    "\n",
    "df = df.drop_duplicates()\n",
    "\n",
    "# Drop leakage columns\n",
    "leakage_cols = [\"HbA1c_level\", \"blood_glucose_level\", \"hypertension\", \"heart_disease\", \"bmi\"]\n",
    "X = df.drop(columns=leakage_cols + [\"risk\"])\n",
    "y = df[\"risk\"]\n",
    "\n",
    "# Feature engineering\n",
    "df[\"age_group\"] = pd.cut(df[\"age\"], bins=[0,30,50,70,120], labels=[\"young\",\"adult\",\"mid_age\",\"elderly\"])\n",
    "df[\"bmi_category\"] = pd.cut(df[\"bmi\"], bins=[0,18.5,25,30,100], labels=[\"underweight\",\"normal\",\"overweight\",\"obese\"])\n",
    "df[\"age_bmi_interaction\"] = df[\"age\"] * df[\"bmi\"]\n",
    "\n",
    "# Final feature set\n",
    "X = df[[\"age\", \"gender\", \"bmi_category\", \"age_group\", \"age_bmi_interaction\"]]\n",
    "X = pd.get_dummies(X, drop_first=True)\n",
    "\n",
    "# Balance dataset\n",
    "smote = SMOTE(random_state=42)\n",
    "X_resampled, y_resampled = smote.fit_resample(X, y)\n",
    "\n",
    "# Train/test split\n",
    "X_train, X_test, y_train, y_test = train_test_split(\n",
    "    X_resampled, y_resampled, test_size=0.2, random_state=42, stratify=y_resampled\n",
    ")\n",
    "\n",
    "# -----------------------------\n",
    "# 2. XGBoost Classifier + Grid Search\n",
    "# -----------------------------\n",
    "xgb_clf = xgb.XGBClassifier(\n",
    "    use_label_encoder=False,\n",
    "    eval_metric=\"logloss\",\n",
    "    random_state=42\n",
    ")\n",
    "\n",
    "param_grid = {\n",
    "    \"n_estimators\": [100, 200, 300],\n",
    "    \"max_depth\": [3, 5, 7],\n",
    "    \"learning_rate\": [0.01, 0.1, 0.2],\n",
    "    \"subsample\": [0.8, 1.0],\n",
    "    \"colsample_bytree\": [0.8, 1.0]\n",
    "}\n",
    "\n",
    "cv = StratifiedKFold(n_splits=5, shuffle=True, random_state=42)\n",
    "\n",
    "grid = GridSearchCV(\n",
    "    estimator=xgb_clf,\n",
    "    param_grid=param_grid,\n",
    "    scoring=\"f1\",  # optimize for F1-score (balance precision & recall)\n",
    "    cv=cv,\n",
    "    n_jobs=-1,\n",
    "    verbose=1\n",
    ")\n",
    "\n",
    "grid.fit(X_train, y_train)\n",
    "\n",
    "# -----------------------------\n",
    "# 3. Best Model Evaluation\n",
    "# -----------------------------\n",
    "best_model = grid.best_estimator_\n",
    "print(\"Best Parameters:\", grid.best_params_)\n",
    "\n",
    "y_pred = best_model.predict(X_test)\n",
    "print(\"\\nClassification Report:\\n\", classification_report(y_test, y_pred))\n"
   ]
  },
  {
   "cell_type": "code",
   "execution_count": 14,
   "id": "9d245d4e",
   "metadata": {},
   "outputs": [],
   "source": [
    "from sklearn.preprocessing import StandardScaler\n",
    "scaler = StandardScaler()\n",
    "X_train_scaled = scaler.fit_transform(X_train)\n",
    "X_test_scaled = scaler.transform(X_test)\n"
   ]
  },
  {
   "cell_type": "code",
   "execution_count": 26,
   "id": "5221e68d",
   "metadata": {},
   "outputs": [
    {
     "data": {
      "text/plain": [
       "['feature_columns.pkl']"
      ]
     },
     "execution_count": 26,
     "metadata": {},
     "output_type": "execute_result"
    }
   ],
   "source": [
    "import joblib\n",
    "\n",
    "joblib.dump(rf, \"risk_model.pkl\")\n",
    "joblib.dump(scaler, \"scaler.pkl\")\n",
    "joblib.dump(pca, \"pca.pkl\")\n",
    "joblib.dump(X.columns, \"feature_columns.pkl\")\n"
   ]
  },
  {
   "cell_type": "code",
   "execution_count": 17,
   "id": "05109deb",
   "metadata": {},
   "outputs": [
    {
     "name": "stderr",
     "output_type": "stream",
     "text": [
      "c:\\Users\\panka\\OneDrive - Shri Vile Parle Kelavani Mandal\\Desktop\\Machine Learning\\venv\\Lib\\site-packages\\sklearn\\base.py:493: UserWarning: X does not have valid feature names, but PCA was fitted with feature names\n",
      "  warnings.warn(\n"
     ]
    }
   ],
   "source": [
    "from sklearn.decomposition import PCA\n",
    "\n",
    "# Pick min(n_features, 10) so it never breaks\n",
    "n_features = X_resampled.shape[1]\n",
    "pca = PCA(n_components=min(10, n_features))\n",
    "\n",
    "X_resampled_pca = pca.fit_transform(X_resampled)\n",
    "X_test_pca = pca.transform(X_test_scaled)\n"
   ]
  },
  {
   "cell_type": "code",
   "execution_count": 22,
   "id": "9e6e96b0",
   "metadata": {},
   "outputs": [
    {
     "name": "stdout",
     "output_type": "stream",
     "text": [
      "risk\n",
      "0    54851\n",
      "1    32134\n",
      "Name: count, dtype: int64\n",
      "[1 0]\n"
     ]
    }
   ],
   "source": [
    "print(df[\"risk\"].value_counts())\n",
    "print(df[\"risk\"].unique())\n"
   ]
  },
  {
   "cell_type": "code",
   "execution_count": 23,
   "id": "03acc766",
   "metadata": {},
   "outputs": [
    {
     "name": "stdout",
     "output_type": "stream",
     "text": [
      "<class 'pandas.core.frame.DataFrame'>\n",
      "Index: 86985 entries, 0 to 95872\n",
      "Data columns (total 11 columns):\n",
      " #   Column               Non-Null Count  Dtype   \n",
      "---  ------               --------------  -----   \n",
      " 0   gender               86985 non-null  int64   \n",
      " 1   age                  86985 non-null  float64 \n",
      " 2   hypertension         86985 non-null  int64   \n",
      " 3   heart_disease        86985 non-null  int64   \n",
      " 4   bmi                  86985 non-null  float64 \n",
      " 5   HbA1c_level          86985 non-null  float64 \n",
      " 6   blood_glucose_level  86985 non-null  int64   \n",
      " 7   risk                 86985 non-null  int64   \n",
      " 8   age_group            86985 non-null  category\n",
      " 9   bmi_category         86985 non-null  category\n",
      " 10  age_bmi_interaction  86985 non-null  float64 \n",
      "dtypes: category(2), float64(4), int64(5)\n",
      "memory usage: 6.8 MB\n"
     ]
    }
   ],
   "source": [
    "df.info()"
   ]
  },
  {
   "cell_type": "code",
   "execution_count": 24,
   "id": "a30db13c",
   "metadata": {},
   "outputs": [
    {
     "name": "stderr",
     "output_type": "stream",
     "text": [
      "c:\\Users\\panka\\OneDrive - Shri Vile Parle Kelavani Mandal\\Desktop\\Machine Learning\\venv\\Lib\\site-packages\\sklearn\\utils\\extmath.py:1137: RuntimeWarning: invalid value encountered in divide\n",
      "  updated_mean = (last_sum + new_sum) / updated_sample_count\n",
      "c:\\Users\\panka\\OneDrive - Shri Vile Parle Kelavani Mandal\\Desktop\\Machine Learning\\venv\\Lib\\site-packages\\sklearn\\utils\\extmath.py:1142: RuntimeWarning: invalid value encountered in divide\n",
      "  T = new_sum / new_sample_count\n",
      "c:\\Users\\panka\\OneDrive - Shri Vile Parle Kelavani Mandal\\Desktop\\Machine Learning\\venv\\Lib\\site-packages\\sklearn\\utils\\extmath.py:1162: RuntimeWarning: invalid value encountered in divide\n",
      "  new_unnormalized_variance -= correction**2 / new_sample_count\n"
     ]
    },
    {
     "name": "stdout",
     "output_type": "stream",
     "text": [
      "Classification Report:\n",
      "               precision    recall  f1-score   support\n",
      "\n",
      "           0       0.72      0.97      0.83     16456\n",
      "           1       0.89      0.37      0.52      9640\n",
      "\n",
      "    accuracy                           0.75     26096\n",
      "   macro avg       0.81      0.67      0.67     26096\n",
      "weighted avg       0.78      0.75      0.71     26096\n",
      "\n",
      "ROC-AUC: 0.7525196576007035\n",
      "Confusion Matrix:\n",
      " [[16011   445]\n",
      " [ 6112  3528]]\n"
     ]
    },
    {
     "data": {
      "text/plain": [
       "['scaler_simple.pkl']"
      ]
     },
     "execution_count": 24,
     "metadata": {},
     "output_type": "execute_result"
    }
   ],
   "source": [
    "\n",
    "features = [\"age\", \"bmi\", \"blood_glucose_level\", \"gender\", \"risk\"]\n",
    "df_small = df[features].dropna()\n",
    "\n",
    "df_small[\"gender\"] = df_small[\"gender\"].map({\"Male\": 1, \"Female\": 0})\n",
    "\n",
    "X = df_small.drop(\"risk\", axis=1)\n",
    "y = df_small[\"risk\"].astype(int)\n",
    "\n",
    "from sklearn.model_selection import train_test_split\n",
    "X_train, X_test, y_train, y_test = train_test_split(\n",
    "    X, y, test_size=0.3, random_state=42, stratify=y\n",
    ")\n",
    "\n",
    "from sklearn.preprocessing import StandardScaler\n",
    "scaler = StandardScaler()\n",
    "X_train_scaled = scaler.fit_transform(X_train)\n",
    "X_test_scaled = scaler.transform(X_test)\n",
    "\n",
    "from sklearn.ensemble import RandomForestClassifier\n",
    "rf = RandomForestClassifier(random_state=42, n_estimators=300, max_depth=7)\n",
    "rf.fit(X_train_scaled, y_train)\n",
    "\n",
    "from sklearn.metrics import classification_report, roc_auc_score, confusion_matrix\n",
    "\n",
    "y_pred = rf.predict(X_test_scaled)\n",
    "print(\"Classification Report:\\n\", classification_report(y_test, y_pred))\n",
    "print(\"ROC-AUC:\", roc_auc_score(y_test, rf.predict_proba(X_test_scaled)[:,1]))\n",
    "print(\"Confusion Matrix:\\n\", confusion_matrix(y_test, y_pred))\n",
    "\n",
    "import joblib\n",
    "joblib.dump(rf, \"risk_model_simple.pkl\")\n",
    "joblib.dump(scaler, \"scaler_simple.pkl\")\n"
   ]
  },
  {
   "cell_type": "code",
   "execution_count": 25,
   "id": "1657f002",
   "metadata": {},
   "outputs": [
    {
     "name": "stdout",
     "output_type": "stream",
     "text": [
      "(0, 0.7933502754771135)\n",
      "(0, 0.7206810808737298)\n",
      "(1, 0.995819871255556)\n",
      "(1, 0.9958467409352365)\n"
     ]
    }
   ],
   "source": [
    "import pandas as pd\n",
    "import joblib\n",
    "\n",
    "# Load simple model\n",
    "model = joblib.load(\"risk_model_simple.pkl\")\n",
    "scaler = joblib.load(\"scaler_simple.pkl\")\n",
    "\n",
    "def predict_new(age, bmi, gender, blood_glucose):\n",
    "    # Prepare new data\n",
    "    new_data = pd.DataFrame([{\n",
    "        \"age\": age,\n",
    "        \"bmi\": bmi,\n",
    "        \"blood_glucose_level\": blood_glucose,\n",
    "        \"gender\": 1 if gender == \"Male\" else 0\n",
    "    }])\n",
    "\n",
    "    # Scale\n",
    "    new_scaled = scaler.transform(new_data)\n",
    "\n",
    "    # Predict\n",
    "    pred = model.predict(new_scaled)[0]\n",
    "    prob = model.predict_proba(new_scaled).max()\n",
    "\n",
    "    return pred, prob\n",
    "\n",
    "# Example\n",
    "print(predict_new(40, 28.0, \"Male\", 150))\n",
    "print(predict_new(25, 20.0, \"Male\", 100))   \n",
    "print(predict_new(70, 40.0, \"Female\", 300))\n",
    "print(predict_new(50, 30.0, \"Male\", 189))\n",
    "\n",
    "# as it moves close to 1 the model is very confident with the decision"
   ]
  },
  {
   "cell_type": "code",
   "execution_count": 27,
   "id": "1f4e963e",
   "metadata": {},
   "outputs": [
    {
     "name": "stdout",
     "output_type": "stream",
     "text": [
      "<class 'pandas.core.frame.DataFrame'>\n",
      "Index: 86985 entries, 0 to 95872\n",
      "Data columns (total 11 columns):\n",
      " #   Column               Non-Null Count  Dtype   \n",
      "---  ------               --------------  -----   \n",
      " 0   gender               86985 non-null  int64   \n",
      " 1   age                  86985 non-null  float64 \n",
      " 2   hypertension         86985 non-null  int64   \n",
      " 3   heart_disease        86985 non-null  int64   \n",
      " 4   bmi                  86985 non-null  float64 \n",
      " 5   HbA1c_level          86985 non-null  float64 \n",
      " 6   blood_glucose_level  86985 non-null  int64   \n",
      " 7   risk                 86985 non-null  int64   \n",
      " 8   age_group            86985 non-null  category\n",
      " 9   bmi_category         86985 non-null  category\n",
      " 10  age_bmi_interaction  86985 non-null  float64 \n",
      "dtypes: category(2), float64(4), int64(5)\n",
      "memory usage: 6.8 MB\n"
     ]
    }
   ],
   "source": [
    "df.info()"
   ]
  },
  {
   "cell_type": "code",
   "execution_count": 36,
   "id": "428374fb",
   "metadata": {},
   "outputs": [
    {
     "name": "stderr",
     "output_type": "stream",
     "text": [
      "c:\\Users\\panka\\OneDrive - Shri Vile Parle Kelavani Mandal\\Desktop\\Machine Learning\\venv\\Lib\\site-packages\\sklearn\\utils\\extmath.py:1137: RuntimeWarning: invalid value encountered in divide\n",
      "  updated_mean = (last_sum + new_sum) / updated_sample_count\n",
      "c:\\Users\\panka\\OneDrive - Shri Vile Parle Kelavani Mandal\\Desktop\\Machine Learning\\venv\\Lib\\site-packages\\sklearn\\utils\\extmath.py:1142: RuntimeWarning: invalid value encountered in divide\n",
      "  T = new_sum / new_sample_count\n",
      "c:\\Users\\panka\\OneDrive - Shri Vile Parle Kelavani Mandal\\Desktop\\Machine Learning\\venv\\Lib\\site-packages\\sklearn\\utils\\extmath.py:1162: RuntimeWarning: invalid value encountered in divide\n",
      "  new_unnormalized_variance -= correction**2 / new_sample_count\n"
     ]
    },
    {
     "name": "stdout",
     "output_type": "stream",
     "text": [
      "Classification Report:\n",
      "               precision    recall  f1-score   support\n",
      "\n",
      "           0       0.90      1.00      0.95     16456\n",
      "           1       1.00      0.81      0.89      9640\n",
      "\n",
      "    accuracy                           0.93     26096\n",
      "   macro avg       0.95      0.90      0.92     26096\n",
      "weighted avg       0.94      0.93      0.93     26096\n",
      "\n",
      "ROC-AUC: 0.9654214741132899\n",
      "Confusion Matrix:\n",
      " [[16456     0]\n",
      " [ 1871  7769]]\n"
     ]
    },
    {
     "data": {
      "text/plain": [
       "['scaler_simple.pkl']"
      ]
     },
     "execution_count": 36,
     "metadata": {},
     "output_type": "execute_result"
    }
   ],
   "source": [
    "\n",
    "features = [\"age\", \"bmi\", \"blood_glucose_level\", \"gender\", \"risk\",\"HbA1c_level\"]\n",
    "df_small = df[features].dropna()\n",
    "\n",
    "df_small[\"gender\"] = df_small[\"gender\"].map({\"Male\": 1, \"Female\": 0})\n",
    "\n",
    "X = df_small.drop(\"risk\", axis=1)\n",
    "y = df_small[\"risk\"].astype(int)\n",
    "\n",
    "from sklearn.model_selection import train_test_split\n",
    "X_train, X_test, y_train, y_test = train_test_split(\n",
    "    X, y, test_size=0.3, random_state=42, stratify=y\n",
    ")\n",
    "\n",
    "from sklearn.preprocessing import StandardScaler\n",
    "scaler = StandardScaler()\n",
    "X_train_scaled = scaler.fit_transform(X_train)\n",
    "X_test_scaled = scaler.transform(X_test)\n",
    "\n",
    "from sklearn.ensemble import RandomForestClassifier\n",
    "rf = RandomForestClassifier(random_state=42, n_estimators=300, max_depth=7)\n",
    "rf.fit(X_train_scaled, y_train)\n",
    "\n",
    "from sklearn.metrics import classification_report, roc_auc_score, confusion_matrix\n",
    "\n",
    "y_pred = rf.predict(X_test_scaled)\n",
    "print(\"Classification Report:\\n\", classification_report(y_test, y_pred))\n",
    "print(\"ROC-AUC:\", roc_auc_score(y_test, rf.predict_proba(X_test_scaled)[:,1]))\n",
    "print(\"Confusion Matrix:\\n\", confusion_matrix(y_test, y_pred))\n",
    "\n",
    "import joblib\n",
    "joblib.dump(rf, \"risk_model_simple.pkl\")\n",
    "joblib.dump(scaler, \"scaler_simple.pkl\")\n"
   ]
  },
  {
   "cell_type": "code",
   "execution_count": null,
   "id": "6795d1c9",
   "metadata": {},
   "outputs": [],
   "source": []
  }
 ],
 "metadata": {
  "kernelspec": {
   "display_name": "Python 3",
   "language": "python",
   "name": "python3"
  },
  "language_info": {
   "codemirror_mode": {
    "name": "ipython",
    "version": 3
   },
   "file_extension": ".py",
   "mimetype": "text/x-python",
   "name": "python",
   "nbconvert_exporter": "python",
   "pygments_lexer": "ipython3",
   "version": "3.12.0"
  }
 },
 "nbformat": 4,
 "nbformat_minor": 5
}
